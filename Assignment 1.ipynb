{
 "cells": [
  {
   "cell_type": "code",
   "execution_count": 1,
   "id": "39159465-25c2-4e8f-bacd-0e9afb816764",
   "metadata": {},
   "outputs": [
    {
     "name": "stdout",
     "output_type": "stream",
     "text": [
      "Welcome to the Tic Tac Toe game !!!\n",
      " 1 | 2 | 3\n",
      "---+---+---\n",
      " 4 | 5 | 6\n",
      "---+---+---\n",
      " 7 | 8 | 9\n",
      "\n"
     ]
    },
    {
     "name": "stdin",
     "output_type": "stream",
     "text": [
      "Now it's {current_player}'s turn. Please choose a number (1-9) to put your sign:  1\n"
     ]
    },
    {
     "name": "stdout",
     "output_type": "stream",
     "text": [
      " X | 2 | 3\n",
      "---+---+---\n",
      " 4 | 5 | 6\n",
      "---+---+---\n",
      " 7 | 8 | 9\n",
      "\n"
     ]
    },
    {
     "name": "stdin",
     "output_type": "stream",
     "text": [
      "Now it's {current_player}'s turn. Please choose a number (1-9) to put your sign:  2\n"
     ]
    },
    {
     "name": "stdout",
     "output_type": "stream",
     "text": [
      " X | O | 3\n",
      "---+---+---\n",
      " 4 | 5 | 6\n",
      "---+---+---\n",
      " 7 | 8 | 9\n",
      "\n"
     ]
    },
    {
     "name": "stdin",
     "output_type": "stream",
     "text": [
      "Now it's {current_player}'s turn. Please choose a number (1-9) to put your sign:  3\n"
     ]
    },
    {
     "name": "stdout",
     "output_type": "stream",
     "text": [
      " X | O | X\n",
      "---+---+---\n",
      " 4 | 5 | 6\n",
      "---+---+---\n",
      " 7 | 8 | 9\n",
      "\n"
     ]
    },
    {
     "name": "stdin",
     "output_type": "stream",
     "text": [
      "Now it's {current_player}'s turn. Please choose a number (1-9) to put your sign:  4\n"
     ]
    },
    {
     "name": "stdout",
     "output_type": "stream",
     "text": [
      " X | O | X\n",
      "---+---+---\n",
      " O | 5 | 6\n",
      "---+---+---\n",
      " 7 | 8 | 9\n",
      "\n"
     ]
    },
    {
     "name": "stdin",
     "output_type": "stream",
     "text": [
      "Now it's {current_player}'s turn. Please choose a number (1-9) to put your sign:  5\n"
     ]
    },
    {
     "name": "stdout",
     "output_type": "stream",
     "text": [
      " X | O | X\n",
      "---+---+---\n",
      " O | X | 6\n",
      "---+---+---\n",
      " 7 | 8 | 9\n",
      "\n"
     ]
    },
    {
     "name": "stdin",
     "output_type": "stream",
     "text": [
      "Now it's {current_player}'s turn. Please choose a number (1-9) to put your sign:  6\n"
     ]
    },
    {
     "name": "stdout",
     "output_type": "stream",
     "text": [
      " X | O | X\n",
      "---+---+---\n",
      " O | X | O\n",
      "---+---+---\n",
      " 7 | 8 | 9\n",
      "\n"
     ]
    },
    {
     "name": "stdin",
     "output_type": "stream",
     "text": [
      "Now it's {current_player}'s turn. Please choose a number (1-9) to put your sign:  7\n"
     ]
    },
    {
     "name": "stdout",
     "output_type": "stream",
     "text": [
      " X | O | X\n",
      "---+---+---\n",
      " O | X | O\n",
      "---+---+---\n",
      " X | 8 | 9\n",
      "\n",
      "Congratulations X! You have won the game!\n"
     ]
    }
   ],
   "source": [
    "print(\"Welcome to the Tic Tac Toe game !!!\")\n",
    "\n",
    "def display_board(board):\n",
    "    print(f\" {board[0]} | {board[1]} | {board[2]}\")\n",
    "    print(\"---+---+---\")\n",
    "    print(f\" {board[3]} | {board[4]} | {board[5]}\")\n",
    "    print(\"---+---+---\")\n",
    "    print(f\" {board[6]} | {board[7]} | {board[8]}\\n\")\n",
    "\n",
    "def win_condition(board, player):\n",
    "    win_combinations = [(0, 1, 2), (3, 4, 5), (6, 7, 8),  # Rows\n",
    "                        (0, 3, 6), (1, 4, 7), (2, 5, 8),  # Columns\n",
    "                        (0, 4, 8), (2, 4, 6)]             # Diagonals\n",
    "    for combo in win_combinations:\n",
    "        if all(board[i] == player for i in combo):\n",
    "            return True\n",
    "    return False\n",
    "\n",
    "def check_tie(board):\n",
    "    return all(x in ['X', 'O'] for x in board)\n",
    "\n",
    "def tic_tac_toe():\n",
    "    board = [\"1\", \"2\", \"3\", \"4\", \"5\", \"6\", \"7\", \"8\", \"9\"]\n",
    "    current_player = \"X\"\n",
    "    \n",
    "    for _ in range(9):\n",
    "        display_board(board)\n",
    "        while True:\n",
    "            player_input = input(\"Now it's {current_player}'s turn. Please choose a number (1-9) to put your sign: \")\n",
    "            try:\n",
    "                player_choice = int(player_input)\n",
    "                if 1 <= player_choice <= 9 and board[player_choice - 1] not in ['X', 'O']:\n",
    "                    board[player_choice - 1] = current_player\n",
    "                    break\n",
    "                else:\n",
    "                    print(\"Invalid choice. That position is either taken or out of range. Please choose again.\")\n",
    "            except ValueError:\n",
    "                print(\"Invalid input. Please enter a number.\")\n",
    "        \n",
    "        if win_condition(board, current_player):\n",
    "            display_board(board)\n",
    "            print(f\"Congratulations {current_player}! You have won the game!\")\n",
    "            return\n",
    "        \n",
    "        if check_tie(board):\n",
    "            display_board(board)\n",
    "            print(\"The game is a tie!\")\n",
    "            return\n",
    "\n",
    "        current_player = \"O\" if current_player == \"X\" else \"X\"\n",
    "\n",
    "    display_board(board)\n",
    "    print(\"The game is a tie!\")\n",
    "\n",
    "tic_tac_toe()\n"
   ]
  },
  {
   "cell_type": "code",
   "execution_count": null,
   "id": "0410e7ce-9a06-4356-8331-324681e44229",
   "metadata": {},
   "outputs": [],
   "source": []
  }
 ],
 "metadata": {
  "kernelspec": {
   "display_name": "Python 3 (ipykernel)",
   "language": "python",
   "name": "python3"
  },
  "language_info": {
   "codemirror_mode": {
    "name": "ipython",
    "version": 3
   },
   "file_extension": ".py",
   "mimetype": "text/x-python",
   "name": "python",
   "nbconvert_exporter": "python",
   "pygments_lexer": "ipython3",
   "version": "3.11.7"
  }
 },
 "nbformat": 4,
 "nbformat_minor": 5
}
